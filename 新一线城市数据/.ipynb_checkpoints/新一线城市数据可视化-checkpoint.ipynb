{
 "cells": [
  {
   "cell_type": "markdown",
   "metadata": {},
   "source": [
    "# 新一线城市可视化"
   ]
  },
  {
   "cell_type": "code",
   "execution_count": 1,
   "metadata": {},
   "outputs": [],
   "source": [
    "# 导入包\n",
    "import numpy as np \n",
    "import pandas as pd\n",
    "\n",
    "import plotly as py \n",
    "import plotly.graph_objs as go \n",
    "import plotly.express as px \n",
    "from plotly import tools"
   ]
  },
  {
   "cell_type": "markdown",
   "metadata": {},
   "source": [
    "## 房价数据可视化"
   ]
  },
  {
   "cell_type": "markdown",
   "metadata": {},
   "source": [
    "1. 房价走势图 - 条形图\n",
    "2. 人口走势图 - 折线图\n",
    "3. 人口增量走势图 - 折线图\n",
    "4. GDP走势图 - 折线图\n",
    "5. 人口 Vs GDP随时间变化走势图 - 散点图 "
   ]
  },
  {
   "cell_type": "code",
   "execution_count": 2,
   "metadata": {},
   "outputs": [
    {
     "data": {
      "text/html": [
       "<div>\n",
       "<style scoped>\n",
       "    .dataframe tbody tr th:only-of-type {\n",
       "        vertical-align: middle;\n",
       "    }\n",
       "\n",
       "    .dataframe tbody tr th {\n",
       "        vertical-align: top;\n",
       "    }\n",
       "\n",
       "    .dataframe thead th {\n",
       "        text-align: right;\n",
       "    }\n",
       "</style>\n",
       "<table border=\"1\" class=\"dataframe\">\n",
       "  <thead>\n",
       "    <tr style=\"text-align: right;\">\n",
       "      <th></th>\n",
       "      <th>dates</th>\n",
       "      <th>price</th>\n",
       "      <th>name</th>\n",
       "    </tr>\n",
       "  </thead>\n",
       "  <tbody>\n",
       "    <tr>\n",
       "      <th>0</th>\n",
       "      <td>2011年12月房价</td>\n",
       "      <td>8477元/㎡</td>\n",
       "      <td>成都</td>\n",
       "    </tr>\n",
       "    <tr>\n",
       "      <th>1</th>\n",
       "      <td>2011年11月房价</td>\n",
       "      <td>8562元/㎡</td>\n",
       "      <td>成都</td>\n",
       "    </tr>\n",
       "    <tr>\n",
       "      <th>2</th>\n",
       "      <td>2011年10月房价</td>\n",
       "      <td>8637元/㎡</td>\n",
       "      <td>成都</td>\n",
       "    </tr>\n",
       "    <tr>\n",
       "      <th>3</th>\n",
       "      <td>2011年09月房价</td>\n",
       "      <td>8679元/㎡</td>\n",
       "      <td>成都</td>\n",
       "    </tr>\n",
       "    <tr>\n",
       "      <th>4</th>\n",
       "      <td>2011年08月房价</td>\n",
       "      <td>8720元/㎡</td>\n",
       "      <td>成都</td>\n",
       "    </tr>\n",
       "  </tbody>\n",
       "</table>\n",
       "</div>"
      ],
      "text/plain": [
       "        dates    price name\n",
       "0  2011年12月房价  8477元/㎡   成都\n",
       "1  2011年11月房价  8562元/㎡   成都\n",
       "2  2011年10月房价  8637元/㎡   成都\n",
       "3  2011年09月房价  8679元/㎡   成都\n",
       "4  2011年08月房价  8720元/㎡   成都"
      ]
     },
     "execution_count": 2,
     "metadata": {},
     "output_type": "execute_result"
    }
   ],
   "source": [
    "# 读入数据\n",
    "df_price = pd.read_excel('./新一线城市房价数据.xlsx')\n",
    "df_price.head() "
   ]
  },
  {
   "cell_type": "code",
   "execution_count": 3,
   "metadata": {},
   "outputs": [
    {
     "data": {
      "text/html": [
       "<div>\n",
       "<style scoped>\n",
       "    .dataframe tbody tr th:only-of-type {\n",
       "        vertical-align: middle;\n",
       "    }\n",
       "\n",
       "    .dataframe tbody tr th {\n",
       "        vertical-align: top;\n",
       "    }\n",
       "\n",
       "    .dataframe thead th {\n",
       "        text-align: right;\n",
       "    }\n",
       "</style>\n",
       "<table border=\"1\" class=\"dataframe\">\n",
       "  <thead>\n",
       "    <tr style=\"text-align: right;\">\n",
       "      <th></th>\n",
       "      <th>dates</th>\n",
       "      <th>price</th>\n",
       "      <th>name</th>\n",
       "      <th>year</th>\n",
       "    </tr>\n",
       "  </thead>\n",
       "  <tbody>\n",
       "    <tr>\n",
       "      <th>701</th>\n",
       "      <td>2011年01月</td>\n",
       "      <td>9058</td>\n",
       "      <td>苏州</td>\n",
       "      <td>2011</td>\n",
       "    </tr>\n",
       "    <tr>\n",
       "      <th>1382</th>\n",
       "      <td>2011年01月</td>\n",
       "      <td>15243</td>\n",
       "      <td>青岛</td>\n",
       "      <td>2011</td>\n",
       "    </tr>\n",
       "    <tr>\n",
       "      <th>1605</th>\n",
       "      <td>2011年01月</td>\n",
       "      <td>6106</td>\n",
       "      <td>佛山</td>\n",
       "      <td>2011</td>\n",
       "    </tr>\n",
       "    <tr>\n",
       "      <th>471</th>\n",
       "      <td>2011年01月</td>\n",
       "      <td>6984</td>\n",
       "      <td>西安</td>\n",
       "      <td>2011</td>\n",
       "    </tr>\n",
       "    <tr>\n",
       "      <th>931</th>\n",
       "      <td>2011年01月</td>\n",
       "      <td>5920</td>\n",
       "      <td>郑州</td>\n",
       "      <td>2011</td>\n",
       "    </tr>\n",
       "  </tbody>\n",
       "</table>\n",
       "</div>"
      ],
      "text/plain": [
       "         dates  price name  year\n",
       "701   2011年01月   9058   苏州  2011\n",
       "1382  2011年01月  15243   青岛  2011\n",
       "1605  2011年01月   6106   佛山  2011\n",
       "471   2011年01月   6984   西安  2011\n",
       "931   2011年01月   5920   郑州  2011"
      ]
     },
     "execution_count": 3,
     "metadata": {},
     "output_type": "execute_result"
    }
   ],
   "source": [
    "# 提取年月\n",
    "df_price['dates'] = df_price['dates'].str.replace('房价', '') \n",
    "# 提取年份\n",
    "df_price['year'] = df_price['dates'].str.split('年').str[0]\n",
    "\n",
    "# price处理\n",
    "df_price['price'] = df_price['price'].str.replace('元/㎡', '').astype('int')\n",
    "\n",
    "# 排序\n",
    "df_price = df_price.sort_values('dates')\n",
    "df_price.head() "
   ]
  },
  {
   "cell_type": "code",
   "execution_count": 4,
   "metadata": {},
   "outputs": [
    {
     "data": {
      "text/html": [
       "<div>\n",
       "<style scoped>\n",
       "    .dataframe tbody tr th:only-of-type {\n",
       "        vertical-align: middle;\n",
       "    }\n",
       "\n",
       "    .dataframe tbody tr th {\n",
       "        vertical-align: top;\n",
       "    }\n",
       "\n",
       "    .dataframe thead th {\n",
       "        text-align: right;\n",
       "    }\n",
       "</style>\n",
       "<table border=\"1\" class=\"dataframe\">\n",
       "  <thead>\n",
       "    <tr style=\"text-align: right;\">\n",
       "      <th></th>\n",
       "      <th>name</th>\n",
       "      <th>year</th>\n",
       "      <th>price</th>\n",
       "    </tr>\n",
       "  </thead>\n",
       "  <tbody>\n",
       "    <tr>\n",
       "      <th>10</th>\n",
       "      <td>佛山</td>\n",
       "      <td>2011</td>\n",
       "      <td>6282.0</td>\n",
       "    </tr>\n",
       "    <tr>\n",
       "      <th>110</th>\n",
       "      <td>郑州</td>\n",
       "      <td>2011</td>\n",
       "      <td>6421.0</td>\n",
       "    </tr>\n",
       "    <tr>\n",
       "      <th>30</th>\n",
       "      <td>合肥</td>\n",
       "      <td>2011</td>\n",
       "      <td>6539.0</td>\n",
       "    </tr>\n",
       "    <tr>\n",
       "      <th>130</th>\n",
       "      <td>长沙</td>\n",
       "      <td>2011</td>\n",
       "      <td>6558.0</td>\n",
       "    </tr>\n",
       "    <tr>\n",
       "      <th>0</th>\n",
       "      <td>东莞</td>\n",
       "      <td>2011</td>\n",
       "      <td>6640.0</td>\n",
       "    </tr>\n",
       "  </tbody>\n",
       "</table>\n",
       "</div>"
      ],
      "text/plain": [
       "    name  year   price\n",
       "10    佛山  2011  6282.0\n",
       "110   郑州  2011  6421.0\n",
       "30    合肥  2011  6539.0\n",
       "130   长沙  2011  6558.0\n",
       "0     东莞  2011  6640.0"
      ]
     },
     "execution_count": 4,
     "metadata": {},
     "output_type": "execute_result"
    }
   ],
   "source": [
    "# 生成新表\n",
    "df_price2 = df_price.groupby(['name', 'year'])['price'].mean().reset_index()\n",
    "df_price2['price'] = round(df_price2['price'])\n",
    "# 排序\n",
    "df_price2 = df_price2.sort_values(['year', 'price'])\n",
    "df_price2.head() "
   ]
  },
  {
   "cell_type": "code",
   "execution_count": 16,
   "metadata": {},
   "outputs": [
    {
     "data": {
      "text/plain": [
       "'新一线城市近10年平均房价走势图.html'"
      ]
     },
     "execution_count": 16,
     "metadata": {},
     "output_type": "execute_result"
    }
   ],
   "source": [
    "# 条形图\n",
    "fig1 = px.bar(df_price2, x='name', y='price', color='name', text='price',\n",
    "             title='新一线城市近10年平均房价走势图', \n",
    "             animation_frame='year',\n",
    "             range_y=[5000, 30000]\n",
    "             ) \n",
    "fig1.update_layout(xaxis_title='城市', yaxis_title='平均价格(元/㎡)')\n",
    "py.offline.plot(fig1, filename='新一线城市近10年平均房价走势图.html') "
   ]
  },
  {
   "cell_type": "markdown",
   "metadata": {},
   "source": [
    "## 人口-GDP数据可视化"
   ]
  },
  {
   "cell_type": "code",
   "execution_count": 5,
   "metadata": {},
   "outputs": [
    {
     "name": "stdout",
     "output_type": "stream",
     "text": [
      "(300, 3) (300, 3)\n"
     ]
    }
   ],
   "source": [
    "# 读入数据\n",
    "df_gdp = pd.read_excel('./新一线城市人口和GDP.xlsx', sheet_name=0)\n",
    "df_pop = pd.read_excel('./新一线城市人口和GDP.xlsx', sheet_name=1)\n",
    "print(df_gdp.shape, df_pop.shape) "
   ]
  },
  {
   "cell_type": "code",
   "execution_count": 6,
   "metadata": {},
   "outputs": [
    {
     "data": {
      "text/html": [
       "<div>\n",
       "<style scoped>\n",
       "    .dataframe tbody tr th:only-of-type {\n",
       "        vertical-align: middle;\n",
       "    }\n",
       "\n",
       "    .dataframe tbody tr th {\n",
       "        vertical-align: top;\n",
       "    }\n",
       "\n",
       "    .dataframe thead th {\n",
       "        text-align: right;\n",
       "    }\n",
       "</style>\n",
       "<table border=\"1\" class=\"dataframe\">\n",
       "  <thead>\n",
       "    <tr style=\"text-align: right;\">\n",
       "      <th></th>\n",
       "      <th>城市</th>\n",
       "      <th>年份</th>\n",
       "      <th>GDP</th>\n",
       "      <th>人口</th>\n",
       "    </tr>\n",
       "  </thead>\n",
       "  <tbody>\n",
       "    <tr>\n",
       "      <th>219</th>\n",
       "      <td>东莞</td>\n",
       "      <td>2000</td>\n",
       "      <td>489.73</td>\n",
       "      <td>152.61</td>\n",
       "    </tr>\n",
       "    <tr>\n",
       "      <th>218</th>\n",
       "      <td>东莞</td>\n",
       "      <td>2001</td>\n",
       "      <td>578.93</td>\n",
       "      <td>153.89</td>\n",
       "    </tr>\n",
       "    <tr>\n",
       "      <th>217</th>\n",
       "      <td>东莞</td>\n",
       "      <td>2002</td>\n",
       "      <td>672.89</td>\n",
       "      <td>156.19</td>\n",
       "    </tr>\n",
       "    <tr>\n",
       "      <th>216</th>\n",
       "      <td>东莞</td>\n",
       "      <td>2003</td>\n",
       "      <td>947.97</td>\n",
       "      <td>158.96</td>\n",
       "    </tr>\n",
       "    <tr>\n",
       "      <th>215</th>\n",
       "      <td>东莞</td>\n",
       "      <td>2004</td>\n",
       "      <td>1155.30</td>\n",
       "      <td>161.97</td>\n",
       "    </tr>\n",
       "  </tbody>\n",
       "</table>\n",
       "</div>"
      ],
      "text/plain": [
       "     城市    年份      GDP      人口\n",
       "219  东莞  2000   489.73  152.61\n",
       "218  东莞  2001   578.93  153.89\n",
       "217  东莞  2002   672.89  156.19\n",
       "216  东莞  2003   947.97  158.96\n",
       "215  东莞  2004  1155.30  161.97"
      ]
     },
     "execution_count": 6,
     "metadata": {},
     "output_type": "execute_result"
    }
   ],
   "source": [
    "# 合并数据\n",
    "df_all = pd.merge(left=df_gdp, right=df_pop, on=['城市', '年份']) \n",
    "df_all = df_all.sort_values(['城市','年份']) \n",
    "df_all.head() "
   ]
  },
  {
   "cell_type": "code",
   "execution_count": 19,
   "metadata": {},
   "outputs": [
    {
     "data": {
      "text/plain": [
       "'2000-2019年GDP变化趋势.html'"
      ]
     },
     "execution_count": 19,
     "metadata": {},
     "output_type": "execute_result"
    }
   ],
   "source": [
    "# 条形图\n",
    "fig2 = px.bar(df_all, x='城市', y='GDP', color='城市', text='GDP', \n",
    "             title='新一线城市近20年GDP变化趋势',\n",
    "             range_y=[300, 25000],\n",
    "             animation_frame='年份',\n",
    "             ) \n",
    "fig2.update_layout(yaxis_title='GDP(亿元)') \n",
    "py.offline.plot(fig2, filename='2000-2019年GDP变化趋势.html')"
   ]
  },
  {
   "cell_type": "code",
   "execution_count": 20,
   "metadata": {},
   "outputs": [
    {
     "data": {
      "text/plain": [
       "'2000-2019年GDP和人口变化趋势.html'"
      ]
     },
     "execution_count": 20,
     "metadata": {},
     "output_type": "execute_result"
    }
   ],
   "source": [
    "# 散点图\n",
    "fig3 = px.scatter(df_all, x='GDP', y='人口', animation_frame='年份', animation_group='城市', \n",
    "                 size='人口', color='城市', hover_name='城市', size_max=50, text='城市',\n",
    "                 range_x=[300, 25000], range_y=[150, 4000],\n",
    "                 title='新一线城市近20年GDP和人口变化趋势', \n",
    "                ) \n",
    "fig3.update_layout(xaxis_title='GDP(亿元)', yaxis_title='人口(万人)')\n",
    "py.offline.plot(fig3, filename='2000-2019年GDP和人口变化趋势.html')"
   ]
  },
  {
   "cell_type": "markdown",
   "metadata": {},
   "source": [
    "## 人口增量数据可视化"
   ]
  },
  {
   "cell_type": "code",
   "execution_count": 46,
   "metadata": {},
   "outputs": [
    {
     "data": {
      "text/html": [
       "<div>\n",
       "<style scoped>\n",
       "    .dataframe tbody tr th:only-of-type {\n",
       "        vertical-align: middle;\n",
       "    }\n",
       "\n",
       "    .dataframe tbody tr th {\n",
       "        vertical-align: top;\n",
       "    }\n",
       "\n",
       "    .dataframe thead th {\n",
       "        text-align: right;\n",
       "    }\n",
       "</style>\n",
       "<table border=\"1\" class=\"dataframe\">\n",
       "  <thead>\n",
       "    <tr style=\"text-align: right;\">\n",
       "      <th></th>\n",
       "      <th>城市</th>\n",
       "      <th>年份</th>\n",
       "      <th>GDP</th>\n",
       "      <th>人口</th>\n",
       "      <th>人口增量</th>\n",
       "      <th>人口累计增量</th>\n",
       "    </tr>\n",
       "  </thead>\n",
       "  <tbody>\n",
       "    <tr>\n",
       "      <th>1</th>\n",
       "      <td>东莞</td>\n",
       "      <td>2001</td>\n",
       "      <td>578.93</td>\n",
       "      <td>153.89</td>\n",
       "      <td>1.28</td>\n",
       "      <td>1.28</td>\n",
       "    </tr>\n",
       "    <tr>\n",
       "      <th>2</th>\n",
       "      <td>东莞</td>\n",
       "      <td>2002</td>\n",
       "      <td>672.89</td>\n",
       "      <td>156.19</td>\n",
       "      <td>2.30</td>\n",
       "      <td>3.58</td>\n",
       "    </tr>\n",
       "    <tr>\n",
       "      <th>3</th>\n",
       "      <td>东莞</td>\n",
       "      <td>2003</td>\n",
       "      <td>947.97</td>\n",
       "      <td>158.96</td>\n",
       "      <td>2.77</td>\n",
       "      <td>6.35</td>\n",
       "    </tr>\n",
       "    <tr>\n",
       "      <th>4</th>\n",
       "      <td>东莞</td>\n",
       "      <td>2004</td>\n",
       "      <td>1155.30</td>\n",
       "      <td>161.97</td>\n",
       "      <td>3.01</td>\n",
       "      <td>9.36</td>\n",
       "    </tr>\n",
       "    <tr>\n",
       "      <th>5</th>\n",
       "      <td>东莞</td>\n",
       "      <td>2005</td>\n",
       "      <td>2181.62</td>\n",
       "      <td>165.65</td>\n",
       "      <td>3.68</td>\n",
       "      <td>13.04</td>\n",
       "    </tr>\n",
       "  </tbody>\n",
       "</table>\n",
       "</div>"
      ],
      "text/plain": [
       "   城市    年份      GDP      人口  人口增量  人口累计增量\n",
       "1  东莞  2001   578.93  153.89  1.28    1.28\n",
       "2  东莞  2002   672.89  156.19  2.30    3.58\n",
       "3  东莞  2003   947.97  158.96  2.77    6.35\n",
       "4  东莞  2004  1155.30  161.97  3.01    9.36\n",
       "5  东莞  2005  2181.62  165.65  3.68   13.04"
      ]
     },
     "execution_count": 46,
     "metadata": {},
     "output_type": "execute_result"
    }
   ],
   "source": [
    "# 存储数据\n",
    "df_dealed = pd.DataFrame() \n",
    "\n",
    "for i in df_all['城市'].unique():\n",
    "    # 筛选城市、创建副本\n",
    "    df_sel = df_all[df_all['城市']==i].copy() \n",
    "    # 新增列\n",
    "    df_sel['人口增量'] = df_sel['人口'].diff() \n",
    "    # 累计增量\n",
    "    df_sel['人口累计增量'] = df_sel['人口增量'].cumsum()\n",
    "    # 追加\n",
    "    df_dealed = df_dealed.append(df_sel, ignore_index=True) \n",
    "    \n",
    "# 删除空值\n",
    "df_dealed = df_dealed.dropna()\n",
    "df_dealed['人口增量'] = round(df_dealed['人口增量'], 2) \n",
    "df_dealed['人口累计增量'] = round(df_dealed['人口累计增量'], 2) \n",
    "df_dealed.head() "
   ]
  },
  {
   "cell_type": "code",
   "execution_count": 52,
   "metadata": {},
   "outputs": [
    {
     "data": {
      "text/plain": [
       "'2001-2019年人口增量数据.html'"
      ]
     },
     "execution_count": 52,
     "metadata": {},
     "output_type": "execute_result"
    }
   ],
   "source": [
    "# 条形图\n",
    "fig4 = px.bar(df_dealed, x='城市', y='人口累计增量', text='人口累计增量', color='城市',\n",
    "               title='新一线城市2000年后人口累计增量', animation_frame='年份',\n",
    "               range_y=[0, 500]\n",
    "              )\n",
    "fig4.update_layout(yaxis_title='累计增量(万人)') \n",
    "py.offline.plot(fig4, filename='2001-2019年人口增量数据.html') "
   ]
  }
 ],
 "metadata": {
  "kernelspec": {
   "display_name": "Python 3",
   "language": "python",
   "name": "python3"
  },
  "language_info": {
   "codemirror_mode": {
    "name": "ipython",
    "version": 3
   },
   "file_extension": ".py",
   "mimetype": "text/x-python",
   "name": "python",
   "nbconvert_exporter": "python",
   "pygments_lexer": "ipython3",
   "version": "3.7.6"
  },
  "toc": {
   "base_numbering": 1,
   "nav_menu": {},
   "number_sections": true,
   "sideBar": true,
   "skip_h1_title": false,
   "title_cell": "Table of Contents",
   "title_sidebar": "Contents",
   "toc_cell": false,
   "toc_position": {},
   "toc_section_display": true,
   "toc_window_display": false
  },
  "varInspector": {
   "cols": {
    "lenName": 16,
    "lenType": 16,
    "lenVar": 40
   },
   "kernels_config": {
    "python": {
     "delete_cmd_postfix": "",
     "delete_cmd_prefix": "del ",
     "library": "var_list.py",
     "varRefreshCmd": "print(var_dic_list())"
    },
    "r": {
     "delete_cmd_postfix": ") ",
     "delete_cmd_prefix": "rm(",
     "library": "var_list.r",
     "varRefreshCmd": "cat(var_dic_list()) "
    }
   },
   "types_to_exclude": [
    "module",
    "function",
    "builtin_function_or_method",
    "instance",
    "_Feature"
   ],
   "window_display": false
  }
 },
 "nbformat": 4,
 "nbformat_minor": 2
}
